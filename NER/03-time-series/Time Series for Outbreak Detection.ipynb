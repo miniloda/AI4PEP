{
 "cells": [
  {
   "cell_type": "code",
   "id": "a4097fc5-d79d-434e-9148-ca5ed86ecffb",
   "metadata": {
    "ExecuteTime": {
     "end_time": "2024-07-19T20:52:25.266852Z",
     "start_time": "2024-07-19T20:52:20.872752Z"
    }
   },
   "source": [
    "import pandas as pd \n",
    "import matplotlib.pyplot as plt \n",
    "import seaborn as sns\n",
    "import numpy as np\n",
    "from scipy.interpolate import make_interp_spline\n",
    "import pmdarima as pm\n",
    "import torch"
   ],
   "outputs": [],
   "execution_count": 1
  },
  {
   "cell_type": "code",
   "id": "1f89578e-2323-482d-8dbc-672c96a9203c",
   "metadata": {
    "ExecuteTime": {
     "end_time": "2024-07-19T20:52:25.706096Z",
     "start_time": "2024-07-19T20:52:25.271476Z"
    }
   },
   "source": [
    "df = pd.read_csv(\"ILI_estimate.csv\")\n",
    "df.head()"
   ],
   "outputs": [
    {
     "name": "stderr",
     "output_type": "stream",
     "text": [
      "/tmp/ipykernel_69689/3199957443.py:1: DtypeWarning: Columns (9,22,28,52,56,60,78) have mixed types. Specify dtype option on import or set low_memory=False.\n",
      "  df = pd.read_csv(\"ILI_estimate.csv\")\n"
     ]
    },
    {
     "data": {
      "text/plain": [
       "   Unnamed: 0                        id          Date of Encounter  \\\n",
       "0          22  64f1f433b2767d0028a35601  2023-08-27T00:00:00+08:00   \n",
       "1          35  64b46258713e280028a2ecdc  2023-07-04T00:00:00+08:00   \n",
       "2          78  64a3383e915942002861d1c4  2023-07-01T00:00:00+08:00   \n",
       "3          92  64f41b05c8efaa00299598da  2023-08-31T00:00:00+08:00   \n",
       "4          96  64e748ff7795bc0028ed8a78  2023-07-28T00:00:00+08:00   \n",
       "\n",
       "  Type of encounter Purpose of encounter Age Range at Consultation  \\\n",
       "0        Outpatient             Check-up                   60 - 69   \n",
       "1        Outpatient     New health issue                     0 - 9   \n",
       "2        Outpatient     New health issue                     0 - 9   \n",
       "3        Outpatient             Check-up                   10 - 19   \n",
       "4        Outpatient     New health issue                     0 - 9   \n",
       "\n",
       "   Is the patient wearing a face mask during the consulation?  \\\n",
       "0                                              False            \n",
       "1                                              False            \n",
       "2                                              False            \n",
       "3                                              False            \n",
       "4                                              False            \n",
       "\n",
       "    Encounter ID 2  Retire Encounter Record? Reason for Retiring Record  ...  \\\n",
       "0  6512-GBLYPkL4hA                     False                        NaN  ...   \n",
       "1  5545-nCx5EGKwQL                     False                        NaN  ...   \n",
       "2  5134-1DbSktQDNh                     False                        NaN  ...   \n",
       "3  6626-uCq62jAtEW                     False                        NaN  ...   \n",
       "4  6104-RiFZTwxhKs                     False                        NaN  ...   \n",
       "\n",
       "   Other Adverse Effects Adverse Events Did the patient get well?  \\\n",
       "0                    NaN             |                        NaN   \n",
       "1                    NaN             |                        NaN   \n",
       "2                    NaN             |                        NaN   \n",
       "3                    NaN             |                        NaN   \n",
       "4                    NaN             |                        NaN   \n",
       "\n",
       "                         Patient Disposition Summary Type of Consultation  \\\n",
       "0                 |  |  | Did the patient get well:                   NaN   \n",
       "1                 |  |  | Did the patient get well:                   NaN   \n",
       "2                 |  |  | Did the patient get well:                   NaN   \n",
       "3                 |  |  | Did the patient get well:                   NaN   \n",
       "4  Need to follow up |  |  | Did the patient get ...                  NaN   \n",
       "\n",
       "  Income Classification         Follow-up Schedule  \\\n",
       "0                   NaN  2023-09-01T00:00:00+08:00   \n",
       "1                   NaN  2023-07-17T00:00:00+08:00   \n",
       "2                   NaN  2023-07-04T00:00:00+08:00   \n",
       "3                   NaN  2023-09-03T00:00:00+08:00   \n",
       "4                   NaN  2023-08-24T00:00:00+08:00   \n",
       "\n",
       "  Identifying Physical Qualities Record ID     Sex  \n",
       "0                            NaN      6512  Female  \n",
       "1                            NaN      5545     NaN  \n",
       "2                            NaN      5134  Female  \n",
       "3                            NaN      6626    Male  \n",
       "4                            NaN      6104  Female  \n",
       "\n",
       "[5 rows x 111 columns]"
      ],
      "text/html": [
       "<div>\n",
       "<style scoped>\n",
       "    .dataframe tbody tr th:only-of-type {\n",
       "        vertical-align: middle;\n",
       "    }\n",
       "\n",
       "    .dataframe tbody tr th {\n",
       "        vertical-align: top;\n",
       "    }\n",
       "\n",
       "    .dataframe thead th {\n",
       "        text-align: right;\n",
       "    }\n",
       "</style>\n",
       "<table border=\"1\" class=\"dataframe\">\n",
       "  <thead>\n",
       "    <tr style=\"text-align: right;\">\n",
       "      <th></th>\n",
       "      <th>Unnamed: 0</th>\n",
       "      <th>id</th>\n",
       "      <th>Date of Encounter</th>\n",
       "      <th>Type of encounter</th>\n",
       "      <th>Purpose of encounter</th>\n",
       "      <th>Age Range at Consultation</th>\n",
       "      <th>Is the patient wearing a face mask during the consulation?</th>\n",
       "      <th>Encounter ID 2</th>\n",
       "      <th>Retire Encounter Record?</th>\n",
       "      <th>Reason for Retiring Record</th>\n",
       "      <th>...</th>\n",
       "      <th>Other Adverse Effects</th>\n",
       "      <th>Adverse Events</th>\n",
       "      <th>Did the patient get well?</th>\n",
       "      <th>Patient Disposition Summary</th>\n",
       "      <th>Type of Consultation</th>\n",
       "      <th>Income Classification</th>\n",
       "      <th>Follow-up Schedule</th>\n",
       "      <th>Identifying Physical Qualities</th>\n",
       "      <th>Record ID</th>\n",
       "      <th>Sex</th>\n",
       "    </tr>\n",
       "  </thead>\n",
       "  <tbody>\n",
       "    <tr>\n",
       "      <th>0</th>\n",
       "      <td>22</td>\n",
       "      <td>64f1f433b2767d0028a35601</td>\n",
       "      <td>2023-08-27T00:00:00+08:00</td>\n",
       "      <td>Outpatient</td>\n",
       "      <td>Check-up</td>\n",
       "      <td>60 - 69</td>\n",
       "      <td>False</td>\n",
       "      <td>6512-GBLYPkL4hA</td>\n",
       "      <td>False</td>\n",
       "      <td>NaN</td>\n",
       "      <td>...</td>\n",
       "      <td>NaN</td>\n",
       "      <td>|</td>\n",
       "      <td>NaN</td>\n",
       "      <td>|  |  | Did the patient get well:</td>\n",
       "      <td>NaN</td>\n",
       "      <td>NaN</td>\n",
       "      <td>2023-09-01T00:00:00+08:00</td>\n",
       "      <td>NaN</td>\n",
       "      <td>6512</td>\n",
       "      <td>Female</td>\n",
       "    </tr>\n",
       "    <tr>\n",
       "      <th>1</th>\n",
       "      <td>35</td>\n",
       "      <td>64b46258713e280028a2ecdc</td>\n",
       "      <td>2023-07-04T00:00:00+08:00</td>\n",
       "      <td>Outpatient</td>\n",
       "      <td>New health issue</td>\n",
       "      <td>0 - 9</td>\n",
       "      <td>False</td>\n",
       "      <td>5545-nCx5EGKwQL</td>\n",
       "      <td>False</td>\n",
       "      <td>NaN</td>\n",
       "      <td>...</td>\n",
       "      <td>NaN</td>\n",
       "      <td>|</td>\n",
       "      <td>NaN</td>\n",
       "      <td>|  |  | Did the patient get well:</td>\n",
       "      <td>NaN</td>\n",
       "      <td>NaN</td>\n",
       "      <td>2023-07-17T00:00:00+08:00</td>\n",
       "      <td>NaN</td>\n",
       "      <td>5545</td>\n",
       "      <td>NaN</td>\n",
       "    </tr>\n",
       "    <tr>\n",
       "      <th>2</th>\n",
       "      <td>78</td>\n",
       "      <td>64a3383e915942002861d1c4</td>\n",
       "      <td>2023-07-01T00:00:00+08:00</td>\n",
       "      <td>Outpatient</td>\n",
       "      <td>New health issue</td>\n",
       "      <td>0 - 9</td>\n",
       "      <td>False</td>\n",
       "      <td>5134-1DbSktQDNh</td>\n",
       "      <td>False</td>\n",
       "      <td>NaN</td>\n",
       "      <td>...</td>\n",
       "      <td>NaN</td>\n",
       "      <td>|</td>\n",
       "      <td>NaN</td>\n",
       "      <td>|  |  | Did the patient get well:</td>\n",
       "      <td>NaN</td>\n",
       "      <td>NaN</td>\n",
       "      <td>2023-07-04T00:00:00+08:00</td>\n",
       "      <td>NaN</td>\n",
       "      <td>5134</td>\n",
       "      <td>Female</td>\n",
       "    </tr>\n",
       "    <tr>\n",
       "      <th>3</th>\n",
       "      <td>92</td>\n",
       "      <td>64f41b05c8efaa00299598da</td>\n",
       "      <td>2023-08-31T00:00:00+08:00</td>\n",
       "      <td>Outpatient</td>\n",
       "      <td>Check-up</td>\n",
       "      <td>10 - 19</td>\n",
       "      <td>False</td>\n",
       "      <td>6626-uCq62jAtEW</td>\n",
       "      <td>False</td>\n",
       "      <td>NaN</td>\n",
       "      <td>...</td>\n",
       "      <td>NaN</td>\n",
       "      <td>|</td>\n",
       "      <td>NaN</td>\n",
       "      <td>|  |  | Did the patient get well:</td>\n",
       "      <td>NaN</td>\n",
       "      <td>NaN</td>\n",
       "      <td>2023-09-03T00:00:00+08:00</td>\n",
       "      <td>NaN</td>\n",
       "      <td>6626</td>\n",
       "      <td>Male</td>\n",
       "    </tr>\n",
       "    <tr>\n",
       "      <th>4</th>\n",
       "      <td>96</td>\n",
       "      <td>64e748ff7795bc0028ed8a78</td>\n",
       "      <td>2023-07-28T00:00:00+08:00</td>\n",
       "      <td>Outpatient</td>\n",
       "      <td>New health issue</td>\n",
       "      <td>0 - 9</td>\n",
       "      <td>False</td>\n",
       "      <td>6104-RiFZTwxhKs</td>\n",
       "      <td>False</td>\n",
       "      <td>NaN</td>\n",
       "      <td>...</td>\n",
       "      <td>NaN</td>\n",
       "      <td>|</td>\n",
       "      <td>NaN</td>\n",
       "      <td>Need to follow up |  |  | Did the patient get ...</td>\n",
       "      <td>NaN</td>\n",
       "      <td>NaN</td>\n",
       "      <td>2023-08-24T00:00:00+08:00</td>\n",
       "      <td>NaN</td>\n",
       "      <td>6104</td>\n",
       "      <td>Female</td>\n",
       "    </tr>\n",
       "  </tbody>\n",
       "</table>\n",
       "<p>5 rows × 111 columns</p>\n",
       "</div>"
      ]
     },
     "execution_count": 2,
     "metadata": {},
     "output_type": "execute_result"
    }
   ],
   "execution_count": 2
  },
  {
   "cell_type": "code",
   "id": "e5aa3eb0-92f0-49d2-b0d3-5246fd75be40",
   "metadata": {
    "ExecuteTime": {
     "end_time": "2024-07-19T20:52:26.159724Z",
     "start_time": "2024-07-19T20:52:25.714966Z"
    }
   },
   "source": [
    "df['Date of Encounter'] = pd.to_datetime(df['Date of Encounter'])\n",
    "df['Date of Encounter'].value_counts().sort_index().plot() "
   ],
   "outputs": [
    {
     "data": {
      "text/plain": [
       "<Axes: >"
      ]
     },
     "execution_count": 3,
     "metadata": {},
     "output_type": "execute_result"
    },
    {
     "data": {
      "text/plain": [
       "<Figure size 640x480 with 1 Axes>"
      ],
      "image/png": "[encoded data removed]"
     },
     "metadata": {},
     "output_type": "display_data"
    }
   ],
   "execution_count": 3
  },
  {
   "cell_type": "code",
   "id": "0b4c948f-8201-41fa-b7db-ec5d9b7e4f91",
   "metadata": {
    "ExecuteTime": {
     "end_time": "2024-07-19T20:52:26.181980Z",
     "start_time": "2024-07-19T20:52:26.161182Z"
    }
   },
   "source": [
    "year = df['Date of Encounter'].dt.isocalendar().year.astype(str)\n",
    "week = df['Date of Encounter'].dt.isocalendar().week.astype(str)\n",
    "df['year'] = year\n",
    "df['week'] = week\n",
    "df['year-week'] = year + \"-\" + week\n",
    "\n",
    "def convert_to_date(year_week):\n",
    "    year, week = map(int, year_week.split('-'))\n",
    "    # Convert week to month assuming each month has 4 weeks\n",
    "    month = int((week - 1) / 4) + 1\n",
    "    return f'{year}-W{week:02d}-MONTH{month:02d}'"
   ],
   "outputs": [],
   "execution_count": 4
  },
  {
   "cell_type": "code",
   "id": "d9fee673-ca8f-4472-9215-a33147dca00a",
   "metadata": {
    "ExecuteTime": {
     "end_time": "2024-07-19T20:52:26.254287Z",
     "start_time": "2024-07-19T20:52:26.187016Z"
    }
   },
   "source": [
    "baseline_df = df[df['year'].isin(['2021','2022','2023'])]"
   ],
   "outputs": [],
   "execution_count": 5
  },
  {
   "cell_type": "code",
   "id": "9a3e86bc-0f7c-4186-beed-416bc16c1528",
   "metadata": {
    "ExecuteTime": {
     "end_time": "2024-07-19T20:52:26.614311Z",
     "start_time": "2024-07-19T20:52:26.260671Z"
    }
   },
   "source": [
    "weekly = baseline_df['Date of Encounter'].value_counts().sort_index().reset_index()\n",
    "weekly.columns = ['Date of Encounter','count']\n",
    "weekly['count'].plot()"
   ],
   "outputs": [
    {
     "data": {
      "text/plain": [
       "<Axes: >"
      ]
     },
     "execution_count": 6,
     "metadata": {},
     "output_type": "execute_result"
    },
    {
     "data": {
      "text/plain": [
       "<Figure size 640x480 with 1 Axes>"
      ],
      "image/png": "[encoded data removed]"
     },
     "metadata": {},
     "output_type": "display_data"
    }
   ],
   "execution_count": 6
  },
  {
   "cell_type": "code",
   "id": "45fd4c51-3579-468c-97c6-14b88864f8c3",
   "metadata": {
    "ExecuteTime": {
     "end_time": "2024-07-19T20:52:26.658451Z",
     "start_time": "2024-07-19T20:52:26.616842Z"
    }
   },
   "source": [
    "year = weekly['Date of Encounter'].dt.isocalendar().year.astype(str)\n",
    "week = weekly['Date of Encounter'].dt.isocalendar().week.astype(str)\n",
    "weekly['year'] = year\n",
    "weekly['week'] = week\n",
    "weekly['year-week'] = year + \"-\" + week\n",
    "\n",
    "\n",
    "weekly.head()"
   ],
   "outputs": [
    {
     "data": {
      "text/plain": [
       "          Date of Encounter  count  year week year-week\n",
       "0 2022-06-06 00:00:00+08:00     14  2022   23   2022-23\n",
       "1 2022-06-07 00:00:00+08:00     26  2022   23   2022-23\n",
       "2 2022-06-09 00:00:00+08:00     10  2022   23   2022-23\n",
       "3 2022-06-10 00:00:00+08:00      9  2022   23   2022-23\n",
       "4 2022-06-11 00:00:00+08:00     36  2022   23   2022-23"
      ],
      "text/html": [
       "<div>\n",
       "<style scoped>\n",
       "    .dataframe tbody tr th:only-of-type {\n",
       "        vertical-align: middle;\n",
       "    }\n",
       "\n",
       "    .dataframe tbody tr th {\n",
       "        vertical-align: top;\n",
       "    }\n",
       "\n",
       "    .dataframe thead th {\n",
       "        text-align: right;\n",
       "    }\n",
       "</style>\n",
       "<table border=\"1\" class=\"dataframe\">\n",
       "  <thead>\n",
       "    <tr style=\"text-align: right;\">\n",
       "      <th></th>\n",
       "      <th>Date of Encounter</th>\n",
       "      <th>count</th>\n",
       "      <th>year</th>\n",
       "      <th>week</th>\n",
       "      <th>year-week</th>\n",
       "    </tr>\n",
       "  </thead>\n",
       "  <tbody>\n",
       "    <tr>\n",
       "      <th>0</th>\n",
       "      <td>2022-06-06 00:00:00+08:00</td>\n",
       "      <td>14</td>\n",
       "      <td>2022</td>\n",
       "      <td>23</td>\n",
       "      <td>2022-23</td>\n",
       "    </tr>\n",
       "    <tr>\n",
       "      <th>1</th>\n",
       "      <td>2022-06-07 00:00:00+08:00</td>\n",
       "      <td>26</td>\n",
       "      <td>2022</td>\n",
       "      <td>23</td>\n",
       "      <td>2022-23</td>\n",
       "    </tr>\n",
       "    <tr>\n",
       "      <th>2</th>\n",
       "      <td>2022-06-09 00:00:00+08:00</td>\n",
       "      <td>10</td>\n",
       "      <td>2022</td>\n",
       "      <td>23</td>\n",
       "      <td>2022-23</td>\n",
       "    </tr>\n",
       "    <tr>\n",
       "      <th>3</th>\n",
       "      <td>2022-06-10 00:00:00+08:00</td>\n",
       "      <td>9</td>\n",
       "      <td>2022</td>\n",
       "      <td>23</td>\n",
       "      <td>2022-23</td>\n",
       "    </tr>\n",
       "    <tr>\n",
       "      <th>4</th>\n",
       "      <td>2022-06-11 00:00:00+08:00</td>\n",
       "      <td>36</td>\n",
       "      <td>2022</td>\n",
       "      <td>23</td>\n",
       "      <td>2022-23</td>\n",
       "    </tr>\n",
       "  </tbody>\n",
       "</table>\n",
       "</div>"
      ]
     },
     "execution_count": 7,
     "metadata": {},
     "output_type": "execute_result"
    }
   ],
   "execution_count": 7
  },
  {
   "cell_type": "code",
   "id": "576f6f72-6334-47b0-baed-113f42b911c8",
   "metadata": {
    "ExecuteTime": {
     "end_time": "2024-07-19T20:52:26.680946Z",
     "start_time": "2024-07-19T20:52:26.667145Z"
    }
   },
   "source": [
    "weekly['week'] = weekly['year-week'].apply(convert_to_date)\n",
    "weekly.set_index('week', inplace=True)\n",
    "\n",
    "weekly.head()"
   ],
   "outputs": [
    {
     "data": {
      "text/plain": [
       "                         Date of Encounter  count  year year-week\n",
       "week                                                             \n",
       "2022-W23-MONTH06 2022-06-06 00:00:00+08:00     14  2022   2022-23\n",
       "2022-W23-MONTH06 2022-06-07 00:00:00+08:00     26  2022   2022-23\n",
       "2022-W23-MONTH06 2022-06-09 00:00:00+08:00     10  2022   2022-23\n",
       "2022-W23-MONTH06 2022-06-10 00:00:00+08:00      9  2022   2022-23\n",
       "2022-W23-MONTH06 2022-06-11 00:00:00+08:00     36  2022   2022-23"
      ],
      "text/html": [
       "<div>\n",
       "<style scoped>\n",
       "    .dataframe tbody tr th:only-of-type {\n",
       "        vertical-align: middle;\n",
       "    }\n",
       "\n",
       "    .dataframe tbody tr th {\n",
       "        vertical-align: top;\n",
       "    }\n",
       "\n",
       "    .dataframe thead th {\n",
       "        text-align: right;\n",
       "    }\n",
       "</style>\n",
       "<table border=\"1\" class=\"dataframe\">\n",
       "  <thead>\n",
       "    <tr style=\"text-align: right;\">\n",
       "      <th></th>\n",
       "      <th>Date of Encounter</th>\n",
       "      <th>count</th>\n",
       "      <th>year</th>\n",
       "      <th>year-week</th>\n",
       "    </tr>\n",
       "    <tr>\n",
       "      <th>week</th>\n",
       "      <th></th>\n",
       "      <th></th>\n",
       "      <th></th>\n",
       "      <th></th>\n",
       "    </tr>\n",
       "  </thead>\n",
       "  <tbody>\n",
       "    <tr>\n",
       "      <th>2022-W23-MONTH06</th>\n",
       "      <td>2022-06-06 00:00:00+08:00</td>\n",
       "      <td>14</td>\n",
       "      <td>2022</td>\n",
       "      <td>2022-23</td>\n",
       "    </tr>\n",
       "    <tr>\n",
       "      <th>2022-W23-MONTH06</th>\n",
       "      <td>2022-06-07 00:00:00+08:00</td>\n",
       "      <td>26</td>\n",
       "      <td>2022</td>\n",
       "      <td>2022-23</td>\n",
       "    </tr>\n",
       "    <tr>\n",
       "      <th>2022-W23-MONTH06</th>\n",
       "      <td>2022-06-09 00:00:00+08:00</td>\n",
       "      <td>10</td>\n",
       "      <td>2022</td>\n",
       "      <td>2022-23</td>\n",
       "    </tr>\n",
       "    <tr>\n",
       "      <th>2022-W23-MONTH06</th>\n",
       "      <td>2022-06-10 00:00:00+08:00</td>\n",
       "      <td>9</td>\n",
       "      <td>2022</td>\n",
       "      <td>2022-23</td>\n",
       "    </tr>\n",
       "    <tr>\n",
       "      <th>2022-W23-MONTH06</th>\n",
       "      <td>2022-06-11 00:00:00+08:00</td>\n",
       "      <td>36</td>\n",
       "      <td>2022</td>\n",
       "      <td>2022-23</td>\n",
       "    </tr>\n",
       "  </tbody>\n",
       "</table>\n",
       "</div>"
      ]
     },
     "execution_count": 8,
     "metadata": {},
     "output_type": "execute_result"
    }
   ],
   "execution_count": 8
  },
  {
   "cell_type": "code",
   "id": "93121104-32cc-4b69-a3a9-dbd3028da878",
   "metadata": {
    "ExecuteTime": {
     "end_time": "2024-07-19T20:53:15.602340Z",
     "start_time": "2024-07-19T20:52:26.687455Z"
    }
   },
   "source": [
    "model = pm.auto_arima(\n",
    "    weekly['count'], \n",
    "    start_p = 1,\n",
    "    start_q = 1,\n",
    "    max_p = 12,\n",
    "    max_q = 12,\n",
    "    seasonal = True,\n",
    "    trace = True,\n",
    "    m = 52\n",
    ")"
   ],
   "outputs": [
    {
     "name": "stdout",
     "output_type": "stream",
     "text": [
      "Performing stepwise search to minimize aic\n",
      " ARIMA(1,0,1)(1,0,1)[52] intercept   : AIC=inf, Time=10.99 sec\n",
      " ARIMA(0,0,0)(0,0,0)[52] intercept   : AIC=3586.616, Time=0.02 sec\n",
      " ARIMA(1,0,0)(1,0,0)[52] intercept   : AIC=3589.151, Time=2.93 sec\n",
      " ARIMA(0,0,1)(0,0,1)[52] intercept   : AIC=3589.245, Time=1.40 sec\n",
      " ARIMA(0,0,0)(0,0,0)[52]             : AIC=3827.294, Time=0.01 sec\n",
      " ARIMA(0,0,0)(1,0,0)[52] intercept   : AIC=3588.172, Time=2.74 sec\n",
      " ARIMA(0,0,0)(0,0,1)[52] intercept   : AIC=3588.106, Time=1.87 sec\n",
      " ARIMA(0,0,0)(1,0,1)[52] intercept   : AIC=inf, Time=9.47 sec\n",
      " ARIMA(1,0,0)(0,0,0)[52] intercept   : AIC=3587.726, Time=0.01 sec\n",
      " ARIMA(0,0,1)(0,0,0)[52] intercept   : AIC=3587.880, Time=0.04 sec\n",
      " ARIMA(1,0,1)(0,0,0)[52] intercept   : AIC=3580.564, Time=0.12 sec\n",
      " ARIMA(1,0,1)(1,0,0)[52] intercept   : AIC=3582.168, Time=14.69 sec\n",
      " ARIMA(1,0,1)(0,0,1)[52] intercept   : AIC=3581.945, Time=3.89 sec\n",
      " ARIMA(2,0,1)(0,0,0)[52] intercept   : AIC=3582.613, Time=0.17 sec\n",
      " ARIMA(1,0,2)(0,0,0)[52] intercept   : AIC=3583.355, Time=0.15 sec\n",
      " ARIMA(0,0,2)(0,0,0)[52] intercept   : AIC=3585.586, Time=0.05 sec\n",
      " ARIMA(2,0,0)(0,0,0)[52] intercept   : AIC=3585.374, Time=0.03 sec\n",
      " ARIMA(2,0,2)(0,0,0)[52] intercept   : AIC=3583.597, Time=0.20 sec\n",
      " ARIMA(1,0,1)(0,0,0)[52]             : AIC=3586.301, Time=0.04 sec\n",
      "\n",
      "Best model:  ARIMA(1,0,1)(0,0,0)[52] intercept\n",
      "Total fit time: 48.869 seconds\n"
     ]
    }
   ],
   "execution_count": 9
  },
  {
   "cell_type": "code",
   "id": "629831ff-6c5b-4a5a-9781-a140b007f2f5",
   "metadata": {
    "ExecuteTime": {
     "end_time": "2024-07-19T20:53:15.608177Z",
     "start_time": "2024-07-19T20:53:15.603370Z"
    }
   },
   "source": [
    "def detect_changes(df, threshold, arima_model):\n",
    "    mean_ = df['count'].mean()\n",
    "    dev_  = df['count'].std()\n",
    "\n",
    "    df[\"warning_cusum\"] = None\n",
    "    df[\"warning_c1\"] = None\n",
    "    df[\"warning_c2\"] = None\n",
    "    df[\"warning_arima\"] = None\n",
    "\n",
    "    # Initialize C1 and C2\n",
    "    df['C1'] = 0.0\n",
    "    df['C2'] = 0.0\n",
    "\n",
    "    counter = 0\n",
    "\n",
    "    for i, row in df.iterrows():\n",
    "        change_ = max(0, row[\"count\"] - mean_)\n",
    "        if change_ > threshold * dev_:\n",
    "            df.at[i,\"warning_cusum\"] = 1\n",
    "        else:\n",
    "            df.at[i,\"warning_cusum\"] = 0\n",
    "\n",
    "        # Calculate C1 and C2\n",
    "        df.at[i, 'C1'] = max(0, row[\"count\"] - mean_ + (df.at[prev_idx, 'C1'] if counter > 0 else 0))\n",
    "        df.at[i, 'C2'] = max(0, mean_ - row[\"count\"] + (df.at[prev_idx, 'C2'] if counter > 0 else 0))\n",
    "\n",
    "        # Detect changes for C1 and C2\n",
    "        df.at[i, 'warning_c1'] = (df.at[i, 'C1'] > threshold * dev_).astype(int)\n",
    "        df.at[i, 'warning_c2'] = (df.at[i, 'C2'] > threshold * dev_).astype(int)\n",
    "\n",
    "        prev_idx = i\n",
    "\n",
    "        counter += 1\n",
    "\n",
    "    df['predicted'] = arima_model.predict_in_sample()\n",
    "\n",
    "    df['warning_arima'] = (df['count'] - df['predicted'] > threshold * np.std(df['count'] - df['predicted'])).astype(int)\n",
    "\n",
    "    return df"
   ],
   "outputs": [],
   "execution_count": 10
  },
  {
   "cell_type": "code",
   "id": "8aed4ace-021c-414a-bd9c-8240f37e1937",
   "metadata": {
    "ExecuteTime": {
     "end_time": "2024-07-19T20:53:15.656079Z",
     "start_time": "2024-07-19T20:53:15.609330Z"
    }
   },
   "source": [
    "weekly_ = detect_changes(weekly, threshold = 1, arima_model = model)"
   ],
   "outputs": [
    {
     "ename": "ValueError",
     "evalue": "The truth value of a Series is ambiguous. Use a.empty, a.bool(), a.item(), a.any() or a.all().",
     "output_type": "error",
     "traceback": [
      "\u001B[0;31m---------------------------------------------------------------------------\u001B[0m",
      "\u001B[0;31mValueError\u001B[0m                                Traceback (most recent call last)",
      "\u001B[0;32m/tmp/ipykernel_69689/3956121629.py\u001B[0m in \u001B[0;36m?\u001B[0;34m()\u001B[0m\n\u001B[0;32m----> 1\u001B[0;31m \u001B[0mweekly_\u001B[0m \u001B[0;34m=\u001B[0m \u001B[0mdetect_changes\u001B[0m\u001B[0;34m(\u001B[0m\u001B[0mweekly\u001B[0m\u001B[0;34m,\u001B[0m \u001B[0mthreshold\u001B[0m \u001B[0;34m=\u001B[0m \u001B[0;36m1\u001B[0m\u001B[0;34m,\u001B[0m \u001B[0marima_model\u001B[0m \u001B[0;34m=\u001B[0m \u001B[0mmodel\u001B[0m\u001B[0;34m)\u001B[0m\u001B[0;34m\u001B[0m\u001B[0;34m\u001B[0m\u001B[0m\n\u001B[0m",
      "\u001B[0;32m/tmp/ipykernel_69689/1961615023.py\u001B[0m in \u001B[0;36m?\u001B[0;34m(df, threshold, arima_model)\u001B[0m\n\u001B[1;32m     20\u001B[0m         \u001B[0;32melse\u001B[0m\u001B[0;34m:\u001B[0m\u001B[0;34m\u001B[0m\u001B[0;34m\u001B[0m\u001B[0m\n\u001B[1;32m     21\u001B[0m             \u001B[0mdf\u001B[0m\u001B[0;34m.\u001B[0m\u001B[0mat\u001B[0m\u001B[0;34m[\u001B[0m\u001B[0mi\u001B[0m\u001B[0;34m,\u001B[0m\u001B[0;34m\"warning_cusum\"\u001B[0m\u001B[0;34m]\u001B[0m \u001B[0;34m=\u001B[0m \u001B[0;36m0\u001B[0m\u001B[0;34m\u001B[0m\u001B[0;34m\u001B[0m\u001B[0m\n\u001B[1;32m     22\u001B[0m \u001B[0;34m\u001B[0m\u001B[0m\n\u001B[1;32m     23\u001B[0m         \u001B[0;31m# Calculate C1 and C2\u001B[0m\u001B[0;34m\u001B[0m\u001B[0;34m\u001B[0m\u001B[0m\n\u001B[0;32m---> 24\u001B[0;31m         \u001B[0mdf\u001B[0m\u001B[0;34m.\u001B[0m\u001B[0mat\u001B[0m\u001B[0;34m[\u001B[0m\u001B[0mi\u001B[0m\u001B[0;34m,\u001B[0m \u001B[0;34m'C1'\u001B[0m\u001B[0;34m]\u001B[0m \u001B[0;34m=\u001B[0m \u001B[0mmax\u001B[0m\u001B[0;34m(\u001B[0m\u001B[0;36m0\u001B[0m\u001B[0;34m,\u001B[0m \u001B[0mrow\u001B[0m\u001B[0;34m[\u001B[0m\u001B[0;34m\"count\"\u001B[0m\u001B[0;34m]\u001B[0m \u001B[0;34m-\u001B[0m \u001B[0mmean_\u001B[0m \u001B[0;34m+\u001B[0m \u001B[0;34m(\u001B[0m\u001B[0mdf\u001B[0m\u001B[0;34m.\u001B[0m\u001B[0mat\u001B[0m\u001B[0;34m[\u001B[0m\u001B[0mprev_idx\u001B[0m\u001B[0;34m,\u001B[0m \u001B[0;34m'C1'\u001B[0m\u001B[0;34m]\u001B[0m \u001B[0;32mif\u001B[0m \u001B[0mcounter\u001B[0m \u001B[0;34m>\u001B[0m \u001B[0;36m0\u001B[0m \u001B[0;32melse\u001B[0m \u001B[0;36m0\u001B[0m\u001B[0;34m)\u001B[0m\u001B[0;34m)\u001B[0m\u001B[0;34m\u001B[0m\u001B[0;34m\u001B[0m\u001B[0m\n\u001B[0m\u001B[1;32m     25\u001B[0m         \u001B[0mdf\u001B[0m\u001B[0;34m.\u001B[0m\u001B[0mat\u001B[0m\u001B[0;34m[\u001B[0m\u001B[0mi\u001B[0m\u001B[0;34m,\u001B[0m \u001B[0;34m'C2'\u001B[0m\u001B[0;34m]\u001B[0m \u001B[0;34m=\u001B[0m \u001B[0mmax\u001B[0m\u001B[0;34m(\u001B[0m\u001B[0;36m0\u001B[0m\u001B[0;34m,\u001B[0m \u001B[0mmean_\u001B[0m \u001B[0;34m-\u001B[0m \u001B[0mrow\u001B[0m\u001B[0;34m[\u001B[0m\u001B[0;34m\"count\"\u001B[0m\u001B[0;34m]\u001B[0m \u001B[0;34m+\u001B[0m \u001B[0;34m(\u001B[0m\u001B[0mdf\u001B[0m\u001B[0;34m.\u001B[0m\u001B[0mat\u001B[0m\u001B[0;34m[\u001B[0m\u001B[0mprev_idx\u001B[0m\u001B[0;34m,\u001B[0m \u001B[0;34m'C2'\u001B[0m\u001B[0;34m]\u001B[0m \u001B[0;32mif\u001B[0m \u001B[0mcounter\u001B[0m \u001B[0;34m>\u001B[0m \u001B[0;36m0\u001B[0m \u001B[0;32melse\u001B[0m \u001B[0;36m0\u001B[0m\u001B[0;34m)\u001B[0m\u001B[0;34m)\u001B[0m\u001B[0;34m\u001B[0m\u001B[0;34m\u001B[0m\u001B[0m\n\u001B[1;32m     26\u001B[0m \u001B[0;34m\u001B[0m\u001B[0m\n\u001B[1;32m     27\u001B[0m         \u001B[0;31m# Detect changes for C1 and C2\u001B[0m\u001B[0;34m\u001B[0m\u001B[0;34m\u001B[0m\u001B[0m\n",
      "\u001B[0;32m~/.local/lib/python3.10/site-packages/pandas/core/generic.py\u001B[0m in \u001B[0;36m?\u001B[0;34m(self)\u001B[0m\n\u001B[1;32m   1525\u001B[0m     \u001B[0;34m@\u001B[0m\u001B[0mfinal\u001B[0m\u001B[0;34m\u001B[0m\u001B[0;34m\u001B[0m\u001B[0m\n\u001B[1;32m   1526\u001B[0m     \u001B[0;32mdef\u001B[0m \u001B[0m__nonzero__\u001B[0m\u001B[0;34m(\u001B[0m\u001B[0mself\u001B[0m\u001B[0;34m)\u001B[0m \u001B[0;34m->\u001B[0m \u001B[0mNoReturn\u001B[0m\u001B[0;34m:\u001B[0m\u001B[0;34m\u001B[0m\u001B[0;34m\u001B[0m\u001B[0m\n\u001B[0;32m-> 1527\u001B[0;31m         raise ValueError(\n\u001B[0m\u001B[1;32m   1528\u001B[0m             \u001B[0;34mf\"The truth value of a {type(self).__name__} is ambiguous. \"\u001B[0m\u001B[0;34m\u001B[0m\u001B[0;34m\u001B[0m\u001B[0m\n\u001B[1;32m   1529\u001B[0m             \u001B[0;34m\"Use a.empty, a.bool(), a.item(), a.any() or a.all().\"\u001B[0m\u001B[0;34m\u001B[0m\u001B[0;34m\u001B[0m\u001B[0m\n\u001B[1;32m   1530\u001B[0m         )\n",
      "\u001B[0;31mValueError\u001B[0m: The truth value of a Series is ambiguous. Use a.empty, a.bool(), a.item(), a.any() or a.all()."
     ]
    }
   ],
   "execution_count": 11
  },
  {
   "metadata": {},
   "cell_type": "code",
   "source": "weekly",
   "id": "13b6c93b71cdc84a",
   "outputs": [],
   "execution_count": null
  },
  {
   "metadata": {},
   "cell_type": "code",
   "source": "",
   "id": "55d9127fc396509d",
   "outputs": [],
   "execution_count": null
  },
  {
   "cell_type": "code",
   "id": "2e6a84bb-e98f-4165-8957-3e4e4f5e5a8d",
   "metadata": {},
   "source": [
    "weekly_.head()"
   ],
   "outputs": [],
   "execution_count": null
  },
  {
   "cell_type": "code",
   "id": "da0302e1-2b51-4b60-b633-39561ba29c68",
   "metadata": {},
   "source": [
    "weekly_.describe()"
   ],
   "outputs": [],
   "execution_count": null
  },
  {
   "cell_type": "code",
   "id": "ea266a37-79f3-4368-810d-6d7e3bbebf8b",
   "metadata": {},
   "source": [
    "model.summary()"
   ],
   "outputs": [],
   "execution_count": null
  },
  {
   "cell_type": "code",
   "id": "eed76d68-acb1-4eb7-a43a-1ed1bf7b1173",
   "metadata": {},
   "source": [
    "def plot_changes(df, warnings):\n",
    "    plt.figure(figsize=(10, 6))\n",
    "\n",
    "    plt.plot(df['count'], label='Count')\n",
    "\n",
    "    colors = {'warning_cusum': 'red', 'warning_c1': 'green', 'warning_c2': 'purple', 'warning_arima': 'blue'}\n",
    "    labels = {'warning_cusum': 'Change detected by Cumulative Sum Control', 'warning_c1': 'Change detected by C1', 'warning_c2': 'Change detected by C2', 'warning_arima': 'Change detected by ARIMA'}\n",
    "    markers = {'warning_cusum': 'o', 'warning_c1': 'o', 'warning_c2': 's', 'warning_arima': 'x'}\n",
    "\n",
    "    for warning in warnings:\n",
    "        change_points = df[df[warning]==1]\n",
    "        plt.scatter(change_points.index, change_points['count'], color=colors[warning], label=labels[warning], marker=markers[warning])\n",
    "\n",
    "    # Set the x-ticks to the weeks where a change was detected by the selected warnings\n",
    "    change_points_indices = set()\n",
    "    for warning in warnings:\n",
    "        change_points_indices = change_points_indices.union(set(df[df[warning]==1].index.values))\n",
    "    plt.xticks(list(change_points_indices))\n",
    "\n",
    "    #plt.xticks([])\n",
    "\n",
    "    # Add labels and title\n",
    "    plt.xlabel('Week')\n",
    "    plt.ylabel('Count')\n",
    "    plt.title('Influenza-Like Illnesses Warning Levels')\n",
    "\n",
    "    # Add a legend\n",
    "    plt.legend()\n",
    "\n",
    "    plt.xticks(rotation=75)\n",
    "\n",
    "    # Display the plot\n",
    "    plt.show()"
   ],
   "outputs": [],
   "execution_count": null
  },
  {
   "cell_type": "code",
   "id": "a6f5973e-7ca7-4e65-a82f-1f827acb31ce",
   "metadata": {},
   "source": [
    "# Use the function\n",
    "plot_changes(weekly_, ['warning_cusum', 'warning_arima'])"
   ],
   "outputs": [],
   "execution_count": null
  },
  {
   "cell_type": "code",
   "id": "25e3ee68-b8bd-4bcc-ba9b-5f1b2c1593d9",
   "metadata": {},
   "source": [],
   "outputs": [],
   "execution_count": null
  }
 ],
 "metadata": {
  "kernelspec": {
   "display_name": "Python 3 (ipykernel)",
   "language": "python",
   "name": "python3"
  },
  "language_info": {
   "codemirror_mode": {
    "name": "ipython",
    "version": 3
   },
   "file_extension": ".py",
   "mimetype": "text/x-python",
   "name": "python",
   "nbconvert_exporter": "python",
   "pygments_lexer": "ipython3",
   "version": "3.9.13"
  }
 },
 "nbformat": 4,
 "nbformat_minor": 5
}
