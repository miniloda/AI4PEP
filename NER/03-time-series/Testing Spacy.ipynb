{
 "cells": [
  {
   "cell_type": "code",
   "id": "initial_id",
   "metadata": {
    "collapsed": true,
    "ExecuteTime": {
     "end_time": "2024-07-22T05:57:16.952571Z",
     "start_time": "2024-07-22T05:57:16.945720Z"
    }
   },
   "source": [
    "import pandas as pd\n",
    "import numpy as np\n",
    "import spacy\n",
    "import re"
   ],
   "outputs": [],
   "execution_count": 7
  },
  {
   "metadata": {
    "ExecuteTime": {
     "end_time": "2024-07-22T05:54:17.701971Z",
     "start_time": "2024-07-22T05:54:17.153041Z"
    }
   },
   "cell_type": "code",
   "source": "nlp = spacy.load(\"trained_spacy_model\")",
   "id": "493174591d97f8d2",
   "outputs": [],
   "execution_count": 2
  },
  {
   "metadata": {
    "ExecuteTime": {
     "end_time": "2024-07-22T05:54:47.639810Z",
     "start_time": "2024-07-22T05:54:47.405309Z"
    }
   },
   "cell_type": "code",
   "source": "df = pd.read_csv(\"view_2078.csv\")",
   "id": "baf235b73b4bf853",
   "outputs": [],
   "execution_count": 4
  },
  {
   "metadata": {
    "ExecuteTime": {
     "end_time": "2024-07-22T06:21:51.416721Z",
     "start_time": "2024-07-22T06:21:51.407574Z"
    }
   },
   "cell_type": "code",
   "source": [
    "from sklearn.model_selection import train_test_split\n",
    "df_sample = df.sample(3000)"
   ],
   "id": "a99c3ef7336823f9",
   "outputs": [],
   "execution_count": 33
  },
  {
   "metadata": {
    "ExecuteTime": {
     "end_time": "2024-07-22T06:21:30.262690Z",
     "start_time": "2024-07-22T06:21:30.258254Z"
    }
   },
   "cell_type": "code",
   "source": [
    "def get_matches(text, pattern):\n",
    "    if pattern == \"CAP\":\n",
    "        # Define a pattern to match whole words; assume \"CAP\" is a placeholder for a word.\n",
    "        pattern = r'\\bCAP\\b'\n",
    "    else:\n",
    "        # Ensure that pattern matches whole words\n",
    "        pattern = r'\\b' + pattern + r'\\w*'\n",
    "    # Perform the match with case insensitivity\n",
    "    matches = re.finditer(pattern, text, re.IGNORECASE)\n",
    "    return [(match.start(), match.end(), match.group()) for match in matches]\n",
    "\n"
   ],
   "id": "65c61b959b72220e",
   "outputs": [],
   "execution_count": 27
  },
  {
   "metadata": {
    "ExecuteTime": {
     "end_time": "2024-07-22T06:21:30.781203Z",
     "start_time": "2024-07-22T06:21:30.775639Z"
    }
   },
   "cell_type": "code",
   "source": [
    "def annotate_entities(text, pattern, label):\n",
    "    matches = get_matches(text, pattern)\n",
    "    entities = []\n",
    "    labeled_texts = []\n",
    "    for start, end, matched_text in matches:\n",
    "        entities.append((start, end, label))\n",
    "        labeled_texts.append((start, end, matched_text))\n",
    "    return entities, labeled_texts\n"
   ],
   "id": "d9d5d6d77d245c8a",
   "outputs": [],
   "execution_count": 28
  },
  {
   "metadata": {
    "ExecuteTime": {
     "end_time": "2024-07-22T06:21:56.471424Z",
     "start_time": "2024-07-22T06:21:56.429561Z"
    }
   },
   "cell_type": "code",
   "source": [
    "df_sample['Complaint/s'] = df_sample['Complaint/s'].fillna('')\n",
    "df_sample['History of Illness'] = df_sample['History of Illness'].fillna('')\n",
    "df_sample['Preliminary Diagnosis/Final Diagnosis'] = df_sample['Preliminary Diagnosis/Final Diagnosis'].fillna('')\n",
    "df_sample['text'] = df_sample['Complaint/s'] + ' ' + df_sample['History of Illness'] + ' ' + df_sample['Preliminary Diagnosis/Final Diagnosis']"
   ],
   "id": "69c9f59af5b02967",
   "outputs": [],
   "execution_count": 34
  },
  {
   "metadata": {
    "ExecuteTime": {
     "end_time": "2024-07-22T06:21:56.711708Z",
     "start_time": "2024-07-22T06:21:56.696908Z"
    }
   },
   "cell_type": "code",
   "source": [
    "df_sample['text'] = df_sample['text'].apply(lambda x: x.replace('\\n', ' '))\n",
    "df_sample['text'] = df_sample['text'].apply(lambda x: x.replace('\\r', ' '))\n",
    "df_sample['text'] = df_sample['text'].apply(lambda x: x.replace(\"(+)\", ''))\n",
    "df_sample['text'] = df_sample['text'].apply(lambda x: x.replace(\"(-)\", ''))"
   ],
   "id": "e1a23832a4edffc4",
   "outputs": [],
   "execution_count": 35
  },
  {
   "metadata": {
    "ExecuteTime": {
     "end_time": "2024-07-22T06:21:57.053502Z",
     "start_time": "2024-07-22T06:21:57.046998Z"
    }
   },
   "cell_type": "code",
   "source": "df_sample['text']",
   "id": "a8ab2e70782f9122",
   "outputs": [
    {
     "data": {
      "text/plain": [
       "4958    BP spikes 1 day PTC, patient has dizziness. BO...\n",
       "3818    follow up occ cough no nasal catarrh, no dob o...\n",
       "3405    general check up Patient came in for general c...\n",
       "7149                eye redness  Bacterial conjunctivitis\n",
       "7333    hypogastric pain 3 days PTC patient had hypoga...\n",
       "                              ...                        \n",
       "3999    hypogastric pain decreased urinary frequency 1...\n",
       "3515    Headache Runny nose 3 days PTC - runny nose, h...\n",
       "6539    cough 1 week PTC, patient had cough and itchy ...\n",
       "4072    Fever 3 days PTC patient had fever associated ...\n",
       "1358    “Ring Worm” Patient complained of having ring ...\n",
       "Name: text, Length: 3000, dtype: object"
      ]
     },
     "execution_count": 36,
     "metadata": {},
     "output_type": "execute_result"
    }
   ],
   "execution_count": 36
  },
  {
   "metadata": {},
   "cell_type": "code",
   "outputs": [],
   "execution_count": null,
   "source": [
    "symptoms = ['fever', 'cough', 'colds']\n",
    "diseases = ['URTI', 'Upper Respiratory Tract Infection', 'CAP', 'Community Acquired Pneumonia', 'PCAP']\n",
    "ILI = symptoms + diseases\n",
    "id = 0\n",
    "jsonl = []\n",
    "for disease in ILI:\n",
    "    for text in df_sample['text']:\n",
    "        entities, labeled_texts = annotate_entities(text, disease, disease)\n",
    "        jsonl.append((id, {'entities': entities, 'text': text}))\n",
    "        id += 1"
   ],
   "id": "966a06821b0b9e50"
  },
  {
   "metadata": {
    "ExecuteTime": {
     "end_time": "2024-07-22T06:36:26.480515Z",
     "start_time": "2024-07-22T06:36:26.239662Z"
    }
   },
   "cell_type": "code",
   "source": [
    "import re\n",
    "import pandas as pd\n",
    "import json\n",
    "\n",
    "def get_matches(text, pattern):\n",
    "    # Create a regex pattern to match whole words\n",
    "    if pattern == \"CAP\":\n",
    "        # Define a pattern to match whole words; assume \"CAP\" is a placeholder for a word.\n",
    "        pattern = r'\\bCAP\\b'\n",
    "    else:\n",
    "        # Ensure that pattern matches whole words\n",
    "        pattern = r'\\b' + pattern + r'\\w*' \n",
    "    # Perform the match with case insensitivity\n",
    "    matches = re.finditer(pattern, text, re.IGNORECASE)\n",
    "    return [(match.start(), match.end(), match.group()) for match in matches]\n",
    "\n",
    "def annotate_entities(text, entity_id_counter):\n",
    "    diseases = [\n",
    "        'fever', 'cough', 'colds', 'URTI', 'Upper Respiratory Tract Infection', \n",
    "        'CAP', 'Community Acquired Pneumonia', 'PCAP', 'Asthma', 'Bronchitis', \n",
    "        'Pharyngitis', 'Laryngitis', 'Sinusitis', 'Pneumonia', 'Chronic Cough'\n",
    "    ]\n",
    "    entities = []\n",
    "    for disease in diseases:\n",
    "        matches = get_matches(text, disease)\n",
    "        for start, end, _ in matches:\n",
    "            entities.append({\n",
    "                'id': entity_id_counter[0],  # Unique ID for each entity\n",
    "                'label': 'ILI',\n",
    "                'start_offset': start,\n",
    "                'end_offset': end\n",
    "            })\n",
    "            entity_id_counter[0] += 1\n",
    "    return entities\n",
    "\n",
    "entry_id_counter = 1  # Counter for entry IDs\n",
    "entity_id_counter = [1]  # Mutable list to maintain the global counter for entities\n",
    "jsonl = []\n",
    "\n",
    "jsonl_file_path = 'output.jsonl'\n",
    "\n",
    "with open(jsonl_file_path, 'w') as jsonl_file:\n",
    "    for text in df_sample['text']:\n",
    "        entities = annotate_entities(text, entity_id_counter)\n",
    "        entry = {\n",
    "            'id': entry_id_counter,  # Unique ID for each entry\n",
    "            'text': text,\n",
    "            'tag': np.random.randint(0,2),  # Assuming a fixed value for 'tag'; adjust as necessary\n",
    "            'entities': entities,\n",
    "            'relations': [],  # Empty list for relations\n",
    "            'Comments': []  # Empty list for comments\n",
    "        }\n",
    "        jsonl_file.write(json.dumps(entry) + '\\n')\n",
    "        entry_id_counter += 1  # Increment entry ID after each entry\n",
    "\n",
    "print(f\"Data saved to {jsonl_file_path}\")"
   ],
   "id": "6e923422f0a1ee01",
   "outputs": [
    {
     "name": "stdout",
     "output_type": "stream",
     "text": [
      "Data saved to output.jsonl\n"
     ]
    }
   ],
   "execution_count": 56
  },
  {
   "metadata": {
    "ExecuteTime": {
     "end_time": "2024-07-22T06:36:14.903483Z",
     "start_time": "2024-07-22T06:36:14.895414Z"
    }
   },
   "cell_type": "code",
   "source": "np.random.randint(0,2, size = 10)",
   "id": "3f8189a64644a586",
   "outputs": [
    {
     "data": {
      "text/plain": [
       "array([0, 1, 1, 0, 1, 0, 0, 1, 1, 1])"
      ]
     },
     "execution_count": 55,
     "metadata": {},
     "output_type": "execute_result"
    }
   ],
   "execution_count": 55
  },
  {
   "metadata": {},
   "cell_type": "code",
   "outputs": [],
   "execution_count": null,
   "source": "",
   "id": "b57c32c5d5da49b4"
  }
 ],
 "metadata": {
  "kernelspec": {
   "display_name": "Python 3",
   "language": "python",
   "name": "python3"
  },
  "language_info": {
   "codemirror_mode": {
    "name": "ipython",
    "version": 2
   },
   "file_extension": ".py",
   "mimetype": "text/x-python",
   "name": "python",
   "nbconvert_exporter": "python",
   "pygments_lexer": "ipython2",
   "version": "2.7.6"
  }
 },
 "nbformat": 4,
 "nbformat_minor": 5
}
